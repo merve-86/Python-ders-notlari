{
 "cells": [
  {
   "cell_type": "code",
   "execution_count": 1,
   "metadata": {},
   "outputs": [
    {
     "name": "stdout",
     "output_type": "stream",
     "text": [
      "True\n"
     ]
    }
   ],
   "source": [
    "if True:\n",
    "    print('True')"
   ]
  },
  {
   "cell_type": "code",
   "execution_count": 2,
   "metadata": {},
   "outputs": [],
   "source": [
    "if False:\n",
    "    print('True')"
   ]
  },
  {
   "cell_type": "code",
   "execution_count": 4,
   "metadata": {},
   "outputs": [
    {
     "name": "stdout",
     "output_type": "stream",
     "text": [
      "if bloğunun dışı\n"
     ]
    }
   ],
   "source": [
    "if False:\n",
    "    print('True')\n",
    "print('if bloğunun dışı')"
   ]
  },
  {
   "cell_type": "code",
   "execution_count": 5,
   "metadata": {},
   "outputs": [
    {
     "data": {
      "text/plain": [
       "True"
      ]
     },
     "execution_count": 5,
     "metadata": {},
     "output_type": "execute_result"
    }
   ],
   "source": [
    "3 < 5"
   ]
  },
  {
   "cell_type": "code",
   "execution_count": 6,
   "metadata": {},
   "outputs": [
    {
     "name": "stdout",
     "output_type": "stream",
     "text": [
      "a harfi isimde bulunmakta \n"
     ]
    }
   ],
   "source": [
    "name = 'Maria'\n",
    "\n",
    "if 'a' in name:\n",
    "    print('a harfi isimde bulunmakta ')"
   ]
  },
  {
   "cell_type": "code",
   "execution_count": 7,
   "metadata": {},
   "outputs": [
    {
     "name": "stdout",
     "output_type": "stream",
     "text": [
      "2 eşit 2\n"
     ]
    }
   ],
   "source": [
    "a = 2\n",
    "b = 2\n",
    "\n",
    "if a == b:\n",
    "    print(f\"{a} eşit {b}\")"
   ]
  },
  {
   "cell_type": "code",
   "execution_count": 12,
   "metadata": {},
   "outputs": [
    {
     "name": "stdout",
     "output_type": "stream",
     "text": [
      "if bloğu çalıştı\n"
     ]
    }
   ],
   "source": [
    "if 1:\n",
    "    print(\"if bloğu çalıştı\")"
   ]
  },
  {
   "cell_type": "code",
   "execution_count": 9,
   "metadata": {},
   "outputs": [],
   "source": [
    "if []:\n",
    "    print(\"if bloğu çalıştı\")"
   ]
  },
  {
   "cell_type": "code",
   "execution_count": 13,
   "metadata": {},
   "outputs": [
    {
     "name": "stdout",
     "output_type": "stream",
     "text": [
      "if bloğu çalıştı\n"
     ]
    }
   ],
   "source": [
    "if (0, ):\n",
    "    print(\"if bloğu çalıştı\")"
   ]
  },
  {
   "cell_type": "code",
   "execution_count": 16,
   "metadata": {},
   "outputs": [
    {
     "name": "stdout",
     "output_type": "stream",
     "text": [
      "There is still seat to sit\n"
     ]
    }
   ],
   "source": [
    "empty_seat = 5\n",
    "\n",
    "if empty_seat > 0 :\n",
    "    print('There is still seat to sit')\n"
   ]
  },
  {
   "cell_type": "code",
   "execution_count": 18,
   "metadata": {},
   "outputs": [
    {
     "data": {
      "text/plain": [
       "set()"
      ]
     },
     "execution_count": 18,
     "metadata": {},
     "output_type": "execute_result"
    }
   ],
   "source": [
    "set1 = set(\"TWELVE PLUS ONE\")\n",
    "set2 = set(\"ELEVEN PLUS TWO\")\n",
    "\n",
    "set1 - set2"
   ]
  },
  {
   "cell_type": "code",
   "execution_count": 19,
   "metadata": {},
   "outputs": [
    {
     "data": {
      "text/plain": [
       "False"
      ]
     },
     "execution_count": 19,
     "metadata": {},
     "output_type": "execute_result"
    }
   ],
   "source": [
    "bool(set())"
   ]
  },
  {
   "cell_type": "code",
   "execution_count": 20,
   "metadata": {},
   "outputs": [
    {
     "name": "stdout",
     "output_type": "stream",
     "text": [
      "we are the same\n"
     ]
    }
   ],
   "source": [
    "if bool(set1 - set2) == False:\n",
    "    print(\"we are the same\")"
   ]
  },
  {
   "cell_type": "code",
   "execution_count": 21,
   "metadata": {},
   "outputs": [
    {
     "name": "stdout",
     "output_type": "stream",
     "text": [
      "we are the same\n"
     ]
    }
   ],
   "source": [
    "if not bool(set1 - set2):\n",
    "    print(\"we are the same\")"
   ]
  },
  {
   "cell_type": "code",
   "execution_count": 26,
   "metadata": {},
   "outputs": [
    {
     "name": "stdout",
     "output_type": "stream",
     "text": [
      "You entered yes\n"
     ]
    }
   ],
   "source": [
    "answer = input('Enter your answer Yes or No')\n",
    "\n",
    "if answer.strip().lower() == 'yes':\n",
    "    print('You entered yes')"
   ]
  },
  {
   "cell_type": "code",
   "execution_count": 27,
   "metadata": {},
   "outputs": [
    {
     "name": "stdout",
     "output_type": "stream",
     "text": [
      "Hello\n"
     ]
    }
   ],
   "source": [
    "x = 7\n",
    "\n",
    "if x > 5:\n",
    "    print('Hello')\n",
    "else:\n",
    "    print('world')    "
   ]
  },
  {
   "cell_type": "code",
   "execution_count": 28,
   "metadata": {},
   "outputs": [
    {
     "name": "stdout",
     "output_type": "stream",
     "text": [
      "world\n"
     ]
    }
   ],
   "source": [
    "x = 3\n",
    "\n",
    "if x > 5:\n",
    "    print('Hello')\n",
    "else:\n",
    "    print('world')   "
   ]
  },
  {
   "cell_type": "code",
   "execution_count": 3,
   "metadata": {},
   "outputs": [
    {
     "name": "stdout",
     "output_type": "stream",
     "text": [
      "you guaranteed the job\n",
      "Hello world\n"
     ]
    }
   ],
   "source": [
    "course = 'Clarusway'\n",
    "\n",
    "if course.lower() == 'clarusway':\n",
    "    print(\"you guaranteed the job\")\n",
    "else:\n",
    "    print(\"think about it again\")\n",
    "print(\"Hello world\")        "
   ]
  },
  {
   "cell_type": "code",
   "execution_count": 6,
   "metadata": {},
   "outputs": [
    {
     "name": "stdout",
     "output_type": "stream",
     "text": [
      "2 is even\n"
     ]
    }
   ],
   "source": [
    "number = int(input('enter a number: '))\n",
    "\n",
    "if number % 2 == 0:\n",
    "    print(f'{number} is even')\n",
    "else:\n",
    "    print(f'{number} is odd')    "
   ]
  },
  {
   "cell_type": "code",
   "execution_count": 9,
   "metadata": {},
   "outputs": [
    {
     "data": {
      "text/plain": [
       "False"
      ]
     },
     "execution_count": 9,
     "metadata": {},
     "output_type": "execute_result"
    }
   ],
   "source": [
    "bool(number % 2)"
   ]
  },
  {
   "cell_type": "code",
   "execution_count": 13,
   "metadata": {},
   "outputs": [
    {
     "name": "stdout",
     "output_type": "stream",
     "text": [
      "6 is even\n"
     ]
    }
   ],
   "source": [
    "number = int(input('enter a number: '))\n",
    "\n",
    "if number % 2: \n",
    "    print(f'{number} is odd')\n",
    "else:    \n",
    "    print(f'{number} is even')"
   ]
  },
  {
   "cell_type": "code",
   "execution_count": 17,
   "metadata": {},
   "outputs": [
    {
     "name": "stdout",
     "output_type": "stream",
     "text": [
      "-5 is negative\n"
     ]
    }
   ],
   "source": [
    "number = int(input('enter a number: '))\n",
    "\n",
    "if number > 0:\n",
    "    print(f'{number} is positive')\n",
    "else:\n",
    "    print(f'{number} is negative') \n"
   ]
  },
  {
   "cell_type": "code",
   "execution_count": 39,
   "metadata": {},
   "outputs": [
    {
     "name": "stdout",
     "output_type": "stream",
     "text": [
      "0.0 is zero\n"
     ]
    }
   ],
   "source": [
    "number = float(input('enter a number: '))\n",
    "\n",
    "if number > 0:\n",
    "    print(f'{number} is positive')\n",
    "elif number == 0:\n",
    "    print(f'{number} is zero')\n",
    "else:\n",
    "    print(f'{number} is negative') "
   ]
  },
  {
   "cell_type": "code",
   "execution_count": 19,
   "metadata": {},
   "outputs": [
    {
     "name": "stdout",
     "output_type": "stream",
     "text": [
      "5 is less than 10\n"
     ]
    }
   ],
   "source": [
    "num1 = int(input('enter the first number: '))\n",
    "num2 = int(input('enter the second number: '))\n",
    "\n",
    "if num1 > num2:\n",
    "    print(f'{num1} is greater than {num2}')\n",
    "else:\n",
    "    print(f'{num1} is less than {num2}')    \n"
   ]
  },
  {
   "cell_type": "code",
   "execution_count": 25,
   "metadata": {},
   "outputs": [
    {
     "name": "stdout",
     "output_type": "stream",
     "text": [
      "The large number is 10.0\n"
     ]
    }
   ],
   "source": [
    "num1 = float(input('enter the first number: '))\n",
    "num2 = float(input('enter the second number: '))\n",
    "\n",
    "if num1 > num2:\n",
    "    print('The large number is {}'.format(num1))\n",
    "else:\n",
    "    print(f'The large number is {num2}')"
   ]
  },
  {
   "cell_type": "code",
   "execution_count": 26,
   "metadata": {},
   "outputs": [
    {
     "name": "stdout",
     "output_type": "stream",
     "text": [
      "The large number is 45.0\n"
     ]
    }
   ],
   "source": [
    "num1 = float(input('enter the first number: '))\n",
    "num2 = float(input('enter the second number: '))\n",
    "\n",
    "if num1 > num2:\n",
    "    larger = num1    \n",
    "else:\n",
    "    larger = num2\n",
    "\n",
    "print('The large number is', larger)\n"
   ]
  },
  {
   "cell_type": "code",
   "execution_count": 27,
   "metadata": {},
   "outputs": [
    {
     "name": "stdout",
     "output_type": "stream",
     "text": [
      "The large number is 11.0\n"
     ]
    }
   ],
   "source": [
    "num1 = float(input('enter the first number: '))\n",
    "num2 = float(input('enter the second number: '))\n",
    "\n",
    "if num1 > num2:\n",
    "    larger = num1    \n",
    "else:\n",
    "    larger = num2\n",
    "\n",
    "print(f'The large number is {larger}')"
   ]
  },
  {
   "cell_type": "code",
   "execution_count": 29,
   "metadata": {},
   "outputs": [
    {
     "name": "stdout",
     "output_type": "stream",
     "text": [
      "The large number is 10.0\n"
     ]
    }
   ],
   "source": [
    "num1 = float(input('enter the first number: '))\n",
    "num2 = float(input('enter the second number: '))\n",
    "\n",
    "if num1 > num2:\n",
    "    larger = num1    \n",
    "else:\n",
    "    larger = num2\n",
    "\n",
    "print('The large number is {}'.format(larger))"
   ]
  },
  {
   "cell_type": "code",
   "execution_count": 38,
   "metadata": {},
   "outputs": [
    {
     "name": "stdout",
     "output_type": "stream",
     "text": [
      "The large number is 10\n"
     ]
    }
   ],
   "source": [
    "num1 = int(input('enter the first number: '))\n",
    "num2 = int(input('enter the second number: '))\n",
    "num3 = int(input('enter the third number: '))\n",
    "\n",
    "if num1 >= num2 and num1 >= num3:\n",
    "    larger = num1\n",
    "elif num2 >= num1 and num2 >= num3:\n",
    "    larger = num2            \n",
    "else:\n",
    "    larger = num3\n",
    "\n",
    "print('The large number is {}'.format(larger))"
   ]
  },
  {
   "cell_type": "code",
   "execution_count": 49,
   "metadata": {},
   "outputs": [
    {
     "name": "stdout",
     "output_type": "stream",
     "text": [
      "B+\n"
     ]
    }
   ],
   "source": [
    "score = int(input('enter your exam score: '))\n",
    "\n",
    "if score >= 95 and score <=100:\n",
    "    print(\"A+\")\n",
    "elif score >= 90 and score <95:\n",
    "    print(\"A\")\n",
    "elif score >= 85 and score <90:\n",
    "    print(\"B+\")\n",
    "elif score >= 80 and score <85:\n",
    "    print(\"B\")\n",
    "else:\n",
    "    print(\"below B\" or \"B-\")    "
   ]
  },
  {
   "cell_type": "code",
   "execution_count": 56,
   "metadata": {},
   "outputs": [
    {
     "name": "stdout",
     "output_type": "stream",
     "text": [
      "Invalid score\n"
     ]
    }
   ],
   "source": [
    "# Nested yapı ile çözüm\n",
    "\n",
    "score = int(input('enter your exam score: '))\n",
    "\n",
    "if 0 <= score <=100:\n",
    "    if score > 90:\n",
    "        if score >= 95:\n",
    "            print('A+')\n",
    "        else:\n",
    "            print(\"A\")\n",
    "    elif score >= 80:\n",
    "        if score >= 85:\n",
    "            print('B+')\n",
    "        else:\n",
    "            print(\"B\")\n",
    "    else:\n",
    "        print(\"Blow B\")        \n",
    "else:\n",
    "    print(\"Invalid score\")\n"
   ]
  },
  {
   "cell_type": "code",
   "execution_count": 58,
   "metadata": {},
   "outputs": [
    {
     "name": "stdout",
     "output_type": "stream",
     "text": [
      "0\n",
      "1\n",
      "2\n",
      "3\n",
      "4\n",
      "5\n",
      "number is greater than 6\n",
      "6\n"
     ]
    }
   ],
   "source": [
    "number = 0\n",
    "\n",
    "while number < 6:\n",
    "    print(number)\n",
    "    number +=1\n",
    "print('number is greater than 6')\n",
    "print(number)  "
   ]
  },
  {
   "cell_type": "code",
   "execution_count": 65,
   "metadata": {},
   "outputs": [
    {
     "name": "stdout",
     "output_type": "stream",
     "text": [
      "lower\n",
      "higher\n",
      "correct\n"
     ]
    }
   ],
   "source": [
    "number = 10\n",
    "\n",
    "key = True\n",
    "\n",
    "while key:\n",
    "    guess = int(input('Enter a number between 1 and 100: '))    \n",
    "    if guess < number:\n",
    "        print('higher')\n",
    "    elif guess > number:\n",
    "        print('lower')\n",
    "    else:\n",
    "        print('correct')\n",
    "        break"
   ]
  },
  {
   "cell_type": "code",
   "execution_count": 69,
   "metadata": {},
   "outputs": [
    {
     "name": "stdout",
     "output_type": "stream",
     "text": [
      "12\n",
      "lower\n",
      "higher\n",
      "correct\n"
     ]
    }
   ],
   "source": [
    "import random\n",
    "\n",
    "number = random.randint(1, 50)\n",
    "print(number)\n",
    "\n",
    "key = True\n",
    "\n",
    "while key:\n",
    "    guess = int(input('Enter a number between 1 and 100: '))    \n",
    "    if guess < number:\n",
    "        print('higher')\n",
    "    elif guess > number:\n",
    "        print('lower')\n",
    "    else:\n",
    "        print('correct')\n",
    "        break"
   ]
  },
  {
   "cell_type": "code",
   "execution_count": 1,
   "metadata": {},
   "outputs": [
    {
     "data": {
      "text/plain": [
       "True"
      ]
     },
     "execution_count": 1,
     "metadata": {},
     "output_type": "execute_result"
    }
   ],
   "source": [
    "\"14\".isdigit() # isdigit() => (0 1 2 3 4 5 6 7 8 9) "
   ]
  },
  {
   "cell_type": "code",
   "execution_count": 2,
   "metadata": {},
   "outputs": [
    {
     "data": {
      "text/plain": [
       "False"
      ]
     },
     "execution_count": 2,
     "metadata": {},
     "output_type": "execute_result"
    }
   ],
   "source": [
    "\"14*5\".isdigit() "
   ]
  },
  {
   "cell_type": "code",
   "execution_count": 3,
   "metadata": {},
   "outputs": [
    {
     "name": "stdout",
     "output_type": "stream",
     "text": [
      "You entered invalid value\n",
      "Your age is 10\n"
     ]
    }
   ],
   "source": [
    "age = input('Enter your age: ')\n",
    "\n",
    "while not age.isdigit():\n",
    "    print(\"You entered invalid value\")\n",
    "    age = input(\"Enter your age again: \")\n",
    "\n",
    "print(\"Your age is\", age)\n"
   ]
  },
  {
   "cell_type": "code",
   "execution_count": 7,
   "metadata": {},
   "outputs": [
    {
     "name": "stdout",
     "output_type": "stream",
     "text": [
      "20\n",
      "enter higher ------- remain rights: 4\n",
      "enter lower -------- remain rights: 3\n",
      "enter lower -------- remain rights: 2\n",
      "enter higher ------- remain rights: 1\n",
      "enter lower -------- remain rights: 0\n",
      "Game Over! Number 20\n"
     ]
    }
   ],
   "source": [
    "import random \n",
    "\n",
    "num = random.randint(1,50)\n",
    "print(num)\n",
    "\n",
    "rights = 5\n",
    "\n",
    "while rights > 0:\n",
    "    guess = int(input(\"Guess a number between 1 and 50: \"))\n",
    "    rights -= 1\n",
    "\n",
    "    if guess == num:\n",
    "        print(\"Congrats!\")\n",
    "        break\n",
    "    elif guess > num:\n",
    "        print(f\"enter lower -------- remain rights: {rights}\")\n",
    "    elif  guess < num:\n",
    "        print(f\"enter higher ------- remain rights: {rights}\")\n",
    "    \n",
    "else:\n",
    "    print(f\"Game Over! Number {num}\")\n",
    "\n",
    "\n"
   ]
  },
  {
   "cell_type": "code",
   "execution_count": 33,
   "metadata": {},
   "outputs": [
    {
     "name": "stdout",
     "output_type": "stream",
     "text": [
      "longest word is bilgisayarım, length of word is 12\n"
     ]
    }
   ],
   "source": [
    "sentence = input(\"enter a sentence: \")\n",
    "\n",
    "words = sentence.split()\n",
    "\n",
    "counter = 0\n",
    "\n",
    "longest = \"\"\n",
    "\n",
    "while counter < len(words):\n",
    "    if len(words[counter]) > len(longest):\n",
    "        longest = words[counter]\n",
    "    counter += 1\n",
    "print(f\"longest word is {longest}, length of word is {len(longest)}\") \n",
    "\n"
   ]
  },
  {
   "cell_type": "code",
   "execution_count": 21,
   "metadata": {},
   "outputs": [
    {
     "name": "stdout",
     "output_type": "stream",
     "text": [
      "['Bugün', 'hava', 'güneşli']\n",
      "3\n",
      "Bugün\n",
      "hava\n"
     ]
    }
   ],
   "source": [
    "sentence = \"Bugün hava güneşli\"\n",
    "\n",
    "counter = 1\n",
    "\n",
    "words = sentence.split()\n",
    "print(words)\n",
    "\n",
    "print(len(words))\n",
    "print((words)[0])\n",
    "\n",
    "\n",
    "print(words[counter])\n",
    "\n"
   ]
  },
  {
   "cell_type": "markdown",
   "metadata": {},
   "source": [
    "FOR"
   ]
  },
  {
   "cell_type": "code",
   "execution_count": 34,
   "metadata": {},
   "outputs": [
    {
     "name": "stdout",
     "output_type": "stream",
     "text": [
      "1\n",
      "2\n",
      "3\n",
      "4\n",
      "5\n"
     ]
    }
   ],
   "source": [
    "numbers = [1, 2, 3, 4, 5]\n",
    "\n",
    "for i in numbers:\n",
    "    print(i)"
   ]
  },
  {
   "cell_type": "code",
   "execution_count": 2,
   "metadata": {},
   "outputs": [
    {
     "name": "stdout",
     "output_type": "stream",
     "text": [
      "spring\n",
      "summer\n",
      "autumn\n",
      "winter\n"
     ]
    }
   ],
   "source": [
    "seasons = [\"spring\", \"summer\", \"autumn\", \"winter\"]\n",
    "\n",
    "for season in seasons:\n",
    "    print(season)"
   ]
  },
  {
   "cell_type": "code",
   "execution_count": 4,
   "metadata": {},
   "outputs": [
    {
     "name": "stdout",
     "output_type": "stream",
     "text": [
      "Hello spring\n",
      "Hello summer\n",
      "Hello autumn\n",
      "Hello winter\n"
     ]
    }
   ],
   "source": [
    "seasons = [\"spring\", \"summer\", \"autumn\", \"winter\"]\n",
    "\n",
    "for season in seasons:\n",
    "    print(f\"Hello {season}\")"
   ]
  },
  {
   "cell_type": "code",
   "execution_count": 5,
   "metadata": {},
   "outputs": [
    {
     "data": {
      "text/plain": [
       "range(1, 20)"
      ]
     },
     "execution_count": 5,
     "metadata": {},
     "output_type": "execute_result"
    }
   ],
   "source": [
    "range(1,20)"
   ]
  },
  {
   "cell_type": "code",
   "execution_count": 6,
   "metadata": {},
   "outputs": [
    {
     "data": {
      "text/plain": [
       "[1, 2, 3, 4, 5, 6, 7, 8, 9, 10, 11, 12, 13, 14, 15, 16, 17, 18, 19]"
      ]
     },
     "execution_count": 6,
     "metadata": {},
     "output_type": "execute_result"
    }
   ],
   "source": [
    "list(range(1,20))"
   ]
  },
  {
   "cell_type": "code",
   "execution_count": 7,
   "metadata": {},
   "outputs": [
    {
     "name": "stdout",
     "output_type": "stream",
     "text": [
      "1\n",
      "2\n",
      "3\n",
      "4\n",
      "5\n"
     ]
    }
   ],
   "source": [
    "for i in range(1,6):\n",
    "    print(i)"
   ]
  },
  {
   "cell_type": "code",
   "execution_count": 9,
   "metadata": {},
   "outputs": [
    {
     "name": "stdout",
     "output_type": "stream",
     "text": [
      "Clarusway"
     ]
    }
   ],
   "source": [
    "text = \"Clarusway\"\n",
    "for i in text:\n",
    "    print(i, end='')"
   ]
  },
  {
   "cell_type": "code",
   "execution_count": 10,
   "metadata": {},
   "outputs": [
    {
     "name": "stdout",
     "output_type": "stream",
     "text": [
      "C l a r u s w a y\n"
     ]
    }
   ],
   "source": [
    "text = \"Clarusway\"\n",
    "print(*text)"
   ]
  },
  {
   "cell_type": "code",
   "execution_count": 11,
   "metadata": {},
   "outputs": [
    {
     "name": "stdout",
     "output_type": "stream",
     "text": [
      "C-l-a-r-u-s-w-a-y-"
     ]
    }
   ],
   "source": [
    "text = \"Clarusway\"\n",
    "\n",
    "for i in text:\n",
    "    print(i, end='-')\n"
   ]
  },
  {
   "cell_type": "code",
   "execution_count": 20,
   "metadata": {},
   "outputs": [
    {
     "name": "stdout",
     "output_type": "stream",
     "text": [
      "C-l-a-r-u-s-w-a-y"
     ]
    }
   ],
   "source": [
    "text = \"Clarusway\"\n",
    "\n",
    "counter = 0\n",
    "\n",
    "for i in text:\n",
    "    counter +=1\n",
    "    if counter < len(text):\n",
    "        i += '-'\n",
    "    print(i, end=\"\")"
   ]
  },
  {
   "cell_type": "code",
   "execution_count": 21,
   "metadata": {},
   "outputs": [
    {
     "data": {
      "text/plain": [
       "'C-l-a-r-u-s-w-a-y'"
      ]
     },
     "execution_count": 21,
     "metadata": {},
     "output_type": "execute_result"
    }
   ],
   "source": [
    "\"-\".join(text)"
   ]
  },
  {
   "cell_type": "code",
   "execution_count": 22,
   "metadata": {},
   "outputs": [],
   "source": [
    "user = {\n",
    "    'name': 'Daniel',\n",
    "    'surname': 'Smith',\n",
    "    'age': 35\n",
    "}\n",
    "\n"
   ]
  },
  {
   "cell_type": "code",
   "execution_count": 24,
   "metadata": {},
   "outputs": [
    {
     "data": {
      "text/plain": [
       "True"
      ]
     },
     "execution_count": 24,
     "metadata": {},
     "output_type": "execute_result"
    }
   ],
   "source": [
    "'name' in user # key değerini verir\n"
   ]
  },
  {
   "cell_type": "code",
   "execution_count": 25,
   "metadata": {},
   "outputs": [
    {
     "data": {
      "text/plain": [
       "False"
      ]
     },
     "execution_count": 25,
     "metadata": {},
     "output_type": "execute_result"
    }
   ],
   "source": [
    "'Daniel' in user # value değerini vermez"
   ]
  },
  {
   "cell_type": "code",
   "execution_count": 26,
   "metadata": {},
   "outputs": [
    {
     "name": "stdout",
     "output_type": "stream",
     "text": [
      "name\n",
      "surname\n",
      "age\n"
     ]
    }
   ],
   "source": [
    "for i in user:\n",
    "    print(i)"
   ]
  },
  {
   "cell_type": "code",
   "execution_count": 27,
   "metadata": {},
   "outputs": [
    {
     "name": "stdout",
     "output_type": "stream",
     "text": [
      "Daniel\n",
      "Smith\n",
      "35\n"
     ]
    }
   ],
   "source": [
    "for i in user.values(): # value değerlerini basmak istersek\n",
    "    print(i)"
   ]
  },
  {
   "cell_type": "code",
   "execution_count": 28,
   "metadata": {},
   "outputs": [
    {
     "name": "stdout",
     "output_type": "stream",
     "text": [
      "name\n",
      "surname\n",
      "age\n"
     ]
    }
   ],
   "source": [
    "for i in user.keys():\n",
    "    print(i)"
   ]
  },
  {
   "cell_type": "code",
   "execution_count": 29,
   "metadata": {},
   "outputs": [
    {
     "name": "stdout",
     "output_type": "stream",
     "text": [
      "('name', 'Daniel')\n",
      "('surname', 'Smith')\n",
      "('age', 35)\n"
     ]
    }
   ],
   "source": [
    "for i in user.items():\n",
    "    print(i)\n"
   ]
  },
  {
   "cell_type": "code",
   "execution_count": 32,
   "metadata": {},
   "outputs": [
    {
     "name": "stdout",
     "output_type": "stream",
     "text": [
      "name : Daniel\n",
      "surname : Smith\n",
      "age : 35\n"
     ]
    }
   ],
   "source": [
    "for key, value in user.items():\n",
    "    print(key, \":\", value)"
   ]
  },
  {
   "cell_type": "code",
   "execution_count": 33,
   "metadata": {},
   "outputs": [
    {
     "name": "stdout",
     "output_type": "stream",
     "text": [
      "(1, 2, 3)\n",
      "('a', 'b', 'c')\n",
      "('x', 'y', 'z')\n"
     ]
    }
   ],
   "source": [
    "listem = [(1, 2, 3), ('a', 'b', 'c'), ('x', 'y', 'z')]\n",
    "\n",
    "\n",
    "for i in listem:\n",
    "    print(i)"
   ]
  },
  {
   "cell_type": "code",
   "execution_count": 42,
   "metadata": {},
   "outputs": [
    {
     "name": "stdout",
     "output_type": "stream",
     "text": [
      "1 : 2 : 3\n",
      "a : b : c\n",
      "x : y : z\n"
     ]
    }
   ],
   "source": [
    "listem = [(1, 2, 3), ('a', 'b', 'c'), ('x', 'y', 'z')]\n",
    "\n",
    "\n",
    "for i, j, k in listem:\n",
    "    print(i, ':', j, ':', k)\n",
    "    "
   ]
  },
  {
   "cell_type": "code",
   "execution_count": 50,
   "metadata": {},
   "outputs": [
    {
     "name": "stdout",
     "output_type": "stream",
     "text": [
      "5 x 0 = 0\n",
      "5 x 1 = 5\n",
      "5 x 2 = 10\n",
      "5 x 3 = 15\n",
      "5 x 4 = 20\n",
      "5 x 5 = 25\n",
      "5 x 6 = 30\n",
      "5 x 7 = 35\n",
      "5 x 8 = 40\n",
      "5 x 9 = 45\n",
      "5 x 10 = 50\n"
     ]
    }
   ],
   "source": [
    "number = int(input('enter a number'))\n",
    "\n",
    "for i in range(11):\n",
    "    print(f'{number} x {i} = {number * i}')\n"
   ]
  }
 ],
 "metadata": {
  "kernelspec": {
   "display_name": "Python 3",
   "language": "python",
   "name": "python3"
  },
  "language_info": {
   "codemirror_mode": {
    "name": "ipython",
    "version": 3
   },
   "file_extension": ".py",
   "mimetype": "text/x-python",
   "name": "python",
   "nbconvert_exporter": "python",
   "pygments_lexer": "ipython3",
   "version": "3.12.6"
  }
 },
 "nbformat": 4,
 "nbformat_minor": 2
}
