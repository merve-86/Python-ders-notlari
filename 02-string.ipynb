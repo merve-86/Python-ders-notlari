{
 "cells": [
  {
   "cell_type": "code",
   "execution_count": 1,
   "metadata": {},
   "outputs": [
    {
     "name": "stdout",
     "output_type": "stream",
     "text": [
      "merve oncu\n"
     ]
    }
   ],
   "source": [
    "name = \"merve\"\n",
    "surname = \"oncu\"\n",
    "print(name, end = ' ')\n",
    "print(surname)"
   ]
  },
  {
   "cell_type": "code",
   "execution_count": null,
   "metadata": {},
   "outputs": [],
   "source": []
  },
  {
   "cell_type": "code",
   "execution_count": 2,
   "metadata": {},
   "outputs": [
    {
     "name": "stdout",
     "output_type": "stream",
     "text": [
      "Jack-2023 Istanbul\n"
     ]
    }
   ],
   "source": [
    "name = \"Jack\"\n",
    "year = 2023\n",
    "city = 'Istanbul'\n",
    "\n",
    "print(name, year, sep = '-', end = ' ')\n",
    "print(city)"
   ]
  },
  {
   "cell_type": "code",
   "execution_count": 3,
   "metadata": {},
   "outputs": [
    {
     "name": "stdout",
     "output_type": "stream",
     "text": [
      "I   a m   a n g r y . . .\n",
      "1 4 5 3\n",
      "j o s e p h @ c l a r u s w a y . c o m\n"
     ]
    }
   ],
   "source": [
    "string_1 = 'I am angry...'\n",
    "string_2 = '1453'\n",
    "\n",
    "print(*string_1)\n",
    "print(*string_2)\n",
    "print(*'joseph@clarusway.com')\n"
   ]
  },
  {
   "cell_type": "code",
   "execution_count": 4,
   "metadata": {},
   "outputs": [
    {
     "name": "stdout",
     "output_type": "stream",
     "text": [
      "Merhaba merve\n"
     ]
    }
   ],
   "source": [
    "name = input(\"Lütfen isminizi giriniz: \")\n",
    "print(\"Merhaba\", name)"
   ]
  },
  {
   "cell_type": "code",
   "execution_count": 5,
   "metadata": {},
   "outputs": [
    {
     "name": "stdout",
     "output_type": "stream",
     "text": [
      "Merhaba merve\n"
     ]
    }
   ],
   "source": [
    "name = input(\"Lütfen isminizi giriniz: \")\n",
    "print(\"Merhaba {}\".format(name))"
   ]
  },
  {
   "cell_type": "code",
   "execution_count": 6,
   "metadata": {},
   "outputs": [
    {
     "name": "stdout",
     "output_type": "stream",
     "text": [
      "Merhaba merve Yasiniz: 38\n"
     ]
    }
   ],
   "source": [
    "isim = input('isminizi giriniz')\n",
    "yas = input('yasinizi giriniz')\n",
    "\n",
    "print(\"Merhaba {} Yasiniz: {}\".format(isim,yas))"
   ]
  },
  {
   "cell_type": "code",
   "execution_count": 7,
   "metadata": {},
   "outputs": [
    {
     "data": {
      "text/plain": [
       "'Carsidan elma aldim ve eve geldim'"
      ]
     },
     "execution_count": 7,
     "metadata": {},
     "output_type": "execute_result"
    }
   ],
   "source": [
    "'Carsidan {meyve} aldim ve {yer} geldim'.format(meyve = 'elma', yer = 'eve') "
   ]
  },
  {
   "cell_type": "code",
   "execution_count": 1,
   "metadata": {},
   "outputs": [
    {
     "data": {
      "text/plain": [
       "'Ben 10 yildir Istanbul sehrinde yasamaktayim'"
      ]
     },
     "execution_count": 1,
     "metadata": {},
     "output_type": "execute_result"
    }
   ],
   "source": [
    "year = 10\n",
    "city = 'Istanbul'\n",
    "\n",
    "\"Ben {1} yildir {0} sehrinde yasamaktayim\".format(city, year)"
   ]
  },
  {
   "cell_type": "code",
   "execution_count": 3,
   "metadata": {},
   "outputs": [
    {
     "name": "stdout",
     "output_type": "stream",
     "text": [
      "Ben 10 yildir Istanbul sehrinde yasamaktayim\n"
     ]
    }
   ],
   "source": [
    "city = 'Istanbul'\n",
    "year = 10\n",
    "\n",
    "print(\"Ben %d yildir %s sehrinde yasamaktayim\" % (year,city))"
   ]
  }
 ],
 "metadata": {
  "kernelspec": {
   "display_name": "Python 3",
   "language": "python",
   "name": "python3"
  },
  "language_info": {
   "codemirror_mode": {
    "name": "ipython",
    "version": 3
   },
   "file_extension": ".py",
   "mimetype": "text/x-python",
   "name": "python",
   "nbconvert_exporter": "python",
   "pygments_lexer": "ipython3",
   "version": "3.12.6"
  }
 },
 "nbformat": 4,
 "nbformat_minor": 2
}
